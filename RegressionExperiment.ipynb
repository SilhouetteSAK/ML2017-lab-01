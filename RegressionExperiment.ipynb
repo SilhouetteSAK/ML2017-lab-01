{
 "cells": [
  {
   "cell_type": "code",
   "execution_count": 2,
   "metadata": {
    "scrolled": true
   },
   "outputs": [
    {
     "data": {
      "image/png": "[encoded data removed]",
      "text/plain": [
       "<matplotlib.figure.Figure at 0x4c8ce161d0>"
      ]
     },
     "metadata": {},
     "output_type": "display_data"
    }
   ],
   "source": [
    "from sklearn import datasets as ds  \n",
    "from sklearn.model_selection import train_test_split\n",
    "import numpy as np\n",
    "from numpy import random\n",
    "import matplotlib.pyplot as plt\n",
    "\n",
    "def Loss(X,y,w):\n",
    "    temp = y - np.dot(X,w)\n",
    "    loss = np.dot(temp.T,temp)/2\n",
    "    return loss\n",
    "\n",
    "def Grad(X,y,w):\n",
    "    grad = np.dot(X.T,np.dot(X,w)-y)\n",
    "    return grad\n",
    "\n",
    "def iteration(x_train,x_validation,y_train,y_validation,w):\n",
    "    itera = 100\n",
    "    lr = 0.0001\n",
    "    train_loss=[]\n",
    "    validation_loss=[]\n",
    "    for i in range(itera):\n",
    "        loss_t=Loss(x_train,y_train,w)\n",
    "        tx,ty=x_train.shape\n",
    "        lt=loss_t[0,0]/tx\n",
    "        train_loss.append(lt)\n",
    "        loss_v=Loss(x_validation,y_validation,w)\n",
    "        vx,vy=x_validation.shape\n",
    "        lv=loss_v[0,0]/vx\n",
    "        validation_loss.append(lv)\n",
    "        w=w-lr*Grad(x_train,y_train,w)\n",
    "    return w,train_loss,validation_loss\n",
    " \n",
    "if __name__ == '__main__':\n",
    "    x_train, y_train = ds.load_svmlight_file('E:/test/test.txt')\n",
    "    x_train = x_train.toarray()\n",
    "    yl=len(y_train)\n",
    "    y_train=y_train.reshape(yl,1)\n",
    "    n_sample,n_feature=x_train.shape\n",
    "    x_train = np.concatenate([x_train, np.ones(shape=[506, 1], dtype=np.float32)], axis=1)\n",
    "    x_train, x_validation, y_train, y_validation = train_test_split(x_train, y_train, test_size=0.2, random_state=1)\n",
    "    n_sample,n_feature=x_train.shape\n",
    "    w0=np.zeros(shape=(n_feature,1))\n",
    "    w,train_loss,validation_loss=iteration(x_train, x_validation, y_train, y_validation,w0)\n",
    "    plt.plot(train_loss, label='train loss')\n",
    "    plt.plot(validation_loss, label='validation loss')\n",
    "    plt.xlabel('Iteration')\n",
    "    plt.ylabel('Loss')\n",
    "    plt.legend()\n",
    "    plt.show()\n",
    "    "
   ]
  },
  {
   "cell_type": "code",
   "execution_count": null,
   "metadata": {},
   "outputs": [],
   "source": []
  }
 ],
 "metadata": {
  "kernelspec": {
   "display_name": "Python 3",
   "language": "python",
   "name": "python3"
  },
  "language_info": {
   "codemirror_mode": {
    "name": "ipython",
    "version": 3
   },
   "file_extension": ".py",
   "mimetype": "text/x-python",
   "name": "python",
   "nbconvert_exporter": "python",
   "pygments_lexer": "ipython3",
   "version": "3.6.3"
  }
 },
 "nbformat": 4,
 "nbformat_minor": 2
}
