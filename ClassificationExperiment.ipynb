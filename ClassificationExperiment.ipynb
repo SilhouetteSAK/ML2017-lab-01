{
 "cells": [
  {
   "cell_type": "code",
   "execution_count": 2,
   "metadata": {},
   "outputs": [
    {
     "data": {
      "image/png": "[encoded data removed]",
      "text/plain": [
       "<matplotlib.figure.Figure at 0xdad0e5a4e0>"
      ]
     },
     "metadata": {},
     "output_type": "display_data"
    }
   ],
   "source": [
    "from sklearn import datasets as ds\n",
    "from sklearn.cross_validation import train_test_split\n",
    "import numpy as np\n",
    "import matplotlib.pyplot as plt\n",
    "import os\n",
    "import matplotlib.pyplot as plt\n",
    "\n",
    "\n",
    "def Loss(x_train,y_train,w,C,b):\n",
    "    ls=0\n",
    "    i=0\n",
    "    for x_sample, y_sample in zip(x_train,y_train):\n",
    "        temp = np.ones((n_sample,1)) - y_sample * np.dot(x_sample,w)\n",
    "        if(0<temp[i,0]):\n",
    "            ls+=temp[i,0]\n",
    "        else:\n",
    "            ls+=0\n",
    "        i+=1\n",
    "    loss=np.dot(w.T,w)/2+C*ls\n",
    "    return loss\n",
    "\n",
    "def Gradw(x_train,y_train,w,C,b):\n",
    "    g=0\n",
    "    i=0\n",
    "    for x_sample, y_sample in zip(x_train,y_train):\n",
    "        temp = np.ones((n_sample,1)) - y_sample * np.dot(x_sample,w)\n",
    "        if(temp[i,0]>0):\n",
    "            gw=-y_sample*x_sample\n",
    "        else:\n",
    "            gw=0\n",
    "        g+=gw\n",
    "        i+=1\n",
    "    gradw=w+C*g\n",
    "    return gradw\n",
    "\n",
    "def Gradb(x_train,y_train,w,C,b):\n",
    "    g1=0\n",
    "    i=0\n",
    "    for x_sample, y_sample in zip(x_train,y_train):\n",
    "        temp = np.ones((n_sample,1)) - y_sample * np.dot(x_sample,w)\n",
    "        if(temp[i,0]>0):\n",
    "            gb=-y_sample\n",
    "        else:\n",
    "            gb=0\n",
    "        g1+=gb\n",
    "        i+=1\n",
    "    gradb=C*g1\n",
    "    return gradb\n",
    "\n",
    "def iteration(x_train,x_validation,y_train,y_validation,w,C,b):\n",
    "    itera = 1000\n",
    "    lr = 0.01\n",
    "    train_loss=[]\n",
    "    validation_loss=[]\n",
    "    for i in range(itera):\n",
    "        loss_t=Loss(x_train,y_train,w,C,b)\n",
    "        tx,ty=x_train.shape\n",
    "        lt=loss_t[0,0]/tx\n",
    "        train_loss.append(lt)\n",
    "        loss_v=Loss(x_validation,y_validation,w,C,b)\n",
    "        vx,vy=x_validation.shape\n",
    "        lv=loss_v[0,0]/vx\n",
    "        validation_loss.append(lv)\n",
    "        w=w-lr*Gradw(x_train,y_train,w,C,b)\n",
    "        b=b-lr*Gradb(x_train,y_train,w,C,b)\n",
    "    return w,b,train_loss,validation_loss\n",
    "        \n",
    "if __name__ == '__main__':\n",
    "    C=0.1\n",
    "    x_train, y_train = ds.load_svmlight_file('E:/test/2.txt')\n",
    "    x_train = x_train.toarray()\n",
    "    yl=len(y_train)\n",
    "    y_train=y_train.reshape(yl,1)\n",
    "    n_sample,n_feature=x_train.shape\n",
    "    x_train, x_validation, y_train, y_validation = train_test_split(x_train, y_train, test_size=0.2, random_state=1)\n",
    "    n_sample,n_feature=x_train.shape\n",
    "    w0=np.zeros(shape=(n_feature,1))\n",
    "    b=0\n",
    "    w,b,train_loss,validation_loss=iteration(x_train, x_validation, y_train, y_validation,w0,C,b)\n",
    "    plt.plot(train_loss, label='train loss')\n",
    "    plt.plot(validation_loss, label='validation loss')\n",
    "    plt.xlabel('Iteration')\n",
    "    plt.ylabel('Loss')\n",
    "    plt.legend()\n",
    "    plt.show()\n",
    "    "
   ]
  },
  {
   "cell_type": "code",
   "execution_count": null,
   "metadata": {},
   "outputs": [],
   "source": []
  },
  {
   "cell_type": "code",
   "execution_count": null,
   "metadata": {},
   "outputs": [],
   "source": []
  }
 ],
 "metadata": {
  "kernelspec": {
   "display_name": "Python 3",
   "language": "python",
   "name": "python3"
  },
  "language_info": {
   "codemirror_mode": {
    "name": "ipython",
    "version": 3
   },
   "file_extension": ".py",
   "mimetype": "text/x-python",
   "name": "python",
   "nbconvert_exporter": "python",
   "pygments_lexer": "ipython3",
   "version": "3.6.3"
  }
 },
 "nbformat": 4,
 "nbformat_minor": 2
}
